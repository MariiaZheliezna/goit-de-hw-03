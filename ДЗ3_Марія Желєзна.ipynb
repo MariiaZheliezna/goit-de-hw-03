{
 "cells": [
  {
   "cell_type": "markdown",
   "metadata": {},
   "source": [
    "# Імпортуємо бібліотеки "
   ]
  },
  {
   "cell_type": "code",
   "execution_count": 1,
   "metadata": {},
   "outputs": [],
   "source": [
    "from pyspark.sql import SparkSession\n",
    "from pyspark.sql.functions import col, sum, round"
   ]
  },
  {
   "cell_type": "markdown",
   "metadata": {},
   "source": [
    "# Завантажуємо та прочитуємо кожен CSV-файл як окремий DataFrame"
   ]
  },
  {
   "cell_type": "code",
   "execution_count": 2,
   "metadata": {},
   "outputs": [],
   "source": [
    "spark = SparkSession.builder.appName(\"MyGoitSparkSandbox\").getOrCreate()\n",
    "\n",
    "products_df = spark.read.csv('products.csv', header=True)\n",
    "purchases_df = spark.read.csv('purchases.csv', header=True)\n",
    "users_df = spark.read.csv('users.csv', header=True)"
   ]
  },
  {
   "cell_type": "markdown",
   "metadata": {},
   "source": [
    "# Очищуємо дані, видаляючи будь-які рядки з пропущеними значеннями"
   ]
  },
  {
   "cell_type": "code",
   "execution_count": 3,
   "metadata": {},
   "outputs": [],
   "source": [
    "products_df = products_df.dropna()\n",
    "purchases_df = purchases_df.dropna()\n",
    "users_df = users_df.dropna()"
   ]
  },
  {
   "cell_type": "markdown",
   "metadata": {},
   "source": [
    "# Визначаємо загальну суму покупок за кожною категорією продуктів"
   ]
  },
  {
   "cell_type": "code",
   "execution_count": null,
   "metadata": {},
   "outputs": [
    {
     "name": "stdout",
     "output_type": "stream",
     "text": [
      "+-----------+-----------+\n",
      "|   category|grand_total|\n",
      "+-----------+-----------+\n",
      "|       Home|     1523.5|\n",
      "|     Sports|     1802.5|\n",
      "|Electronics|     1174.8|\n",
      "|   Clothing|      790.3|\n",
      "|     Beauty|      459.9|\n",
      "+-----------+-----------+\n",
      "\n"
     ]
    }
   ],
   "source": [
    "alldata_tab_df = purchases_df.join(products_df, on='product_id')\n",
    "alldata_tab_df = alldata_tab_df.withColumn('total', round(col('quantity') * col('price'),2))\n",
    "# alldata_tab_df.show()\n",
    "category_total_df = alldata_tab_df.groupBy('category').agg(round(sum('total'),2).alias('grand_total'))\n",
    "category_total_df.show()"
   ]
  },
  {
   "cell_type": "markdown",
   "metadata": {},
   "source": [
    "# Визначаємо суму покупок за кожною категорією продуктів для вікової категорії від 18 до 25 включно"
   ]
  },
  {
   "cell_type": "code",
   "execution_count": 15,
   "metadata": {},
   "outputs": [
    {
     "name": "stdout",
     "output_type": "stream",
     "text": [
      "+-----------+-----------+\n",
      "|   category|grand_total|\n",
      "+-----------+-----------+\n",
      "|       Home|      361.1|\n",
      "|     Sports|      310.5|\n",
      "|Electronics|      249.6|\n",
      "|   Clothing|      245.0|\n",
      "|     Beauty|       41.4|\n",
      "+-----------+-----------+\n",
      "\n"
     ]
    }
   ],
   "source": [
    "all_users_purchase_tab_df = purchases_df.join(users_df, on='user_id')\n",
    "all_users_purchase_tab_df = products_df.join(all_users_purchase_tab_df, on='product_id')\n",
    "all_users_purchase_tab_df = all_users_purchase_tab_df.withColumn('total', round(col('quantity') * col('price'),2))\n",
    "selected_users_purchase_tab_df = all_users_purchase_tab_df.filter((col('age') >= 18) & (col('age') <= 25))\n",
    "selected_users_category_total_df = selected_users_purchase_tab_df.groupBy('category').agg(round(sum('total'),2).alias('grand_total'))\n",
    "selected_users_category_total_df.show()"
   ]
  },
  {
   "cell_type": "markdown",
   "metadata": {},
   "source": [
    "# Визначаємо частку покупок за кожною категорією товарів від сумарних витрат для вікової категорії від 18 до 25 років"
   ]
  },
  {
   "cell_type": "code",
   "execution_count": 20,
   "metadata": {},
   "outputs": [
    {
     "name": "stdout",
     "output_type": "stream",
     "text": [
      "+-----------+----------+\n",
      "|   category|percentage|\n",
      "+-----------+----------+\n",
      "|       Home|      29.9|\n",
      "|     Sports|      25.7|\n",
      "|Electronics|      20.7|\n",
      "|   Clothing|      20.3|\n",
      "|     Beauty|       3.4|\n",
      "+-----------+----------+\n",
      "\n"
     ]
    }
   ],
   "source": [
    "selected_users_all_categories_total = selected_users_purchase_tab_df.agg(sum('total')).collect()[0][0]\n",
    "selected_users_percentage_df = selected_users_category_total_df \\\n",
    "    .withColumn('percentage', round(col('grand_total') * 100 / selected_users_all_categories_total, 1)) \\\n",
    "    .select('category', 'percentage')\n",
    "selected_users_percentage_df.show()"
   ]
  },
  {
   "cell_type": "markdown",
   "metadata": {},
   "source": [
    "# Вибераємо 3 категорії продуктів з найвищим відсотком витрат споживачами віком від 18 до 25 років"
   ]
  },
  {
   "cell_type": "code",
   "execution_count": 21,
   "metadata": {},
   "outputs": [
    {
     "name": "stdout",
     "output_type": "stream",
     "text": [
      "+-----------+----------+\n",
      "|   category|percentage|\n",
      "+-----------+----------+\n",
      "|       Home|      29.9|\n",
      "|     Sports|      25.7|\n",
      "|Electronics|      20.7|\n",
      "+-----------+----------+\n",
      "\n"
     ]
    }
   ],
   "source": [
    "selected_users_top_3_df = selected_users_percentage_df.orderBy(col('percentage').desc()).limit(3)\n",
    "selected_users_top_3_df.show()"
   ]
  },
  {
   "cell_type": "code",
   "execution_count": 22,
   "metadata": {},
   "outputs": [],
   "source": [
    "spark.stop()"
   ]
  }
 ],
 "metadata": {
  "kernelspec": {
   "display_name": "Python 3",
   "language": "python",
   "name": "python3"
  },
  "language_info": {
   "codemirror_mode": {
    "name": "ipython",
    "version": 3
   },
   "file_extension": ".py",
   "mimetype": "text/x-python",
   "name": "python",
   "nbconvert_exporter": "python",
   "pygments_lexer": "ipython3",
   "version": "3.12.6"
  }
 },
 "nbformat": 4,
 "nbformat_minor": 2
}
